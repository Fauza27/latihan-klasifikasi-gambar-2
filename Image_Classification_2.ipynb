{
  "nbformat": 4,
  "nbformat_minor": 0,
  "metadata": {
    "colab": {
      "provenance": [],
      "gpuType": "T4"
    },
    "kernelspec": {
      "name": "python3",
      "display_name": "Python 3"
    },
    "language_info": {
      "name": "python"
    },
    "accelerator": "GPU"
  },
  "cells": [
    {
      "cell_type": "code",
      "execution_count": 8,
      "metadata": {
        "id": "YYpJ3whXyBfa"
      },
      "outputs": [],
      "source": [
        "import tensorflow as tf\n",
        "from tensorflow.keras import layers, models\n",
        "from tensorflow.keras.preprocessing.image import ImageDataGenerator\n",
        "from tensorflow.keras.applications import MobileNetV2\n",
        "from tensorflow.keras.callbacks import Callback, ReduceLROnPlateau\n",
        "import matplotlib.pyplot as plt\n",
        "from sklearn.model_selection import train_test_split\n",
        "import os\n",
        "import shutil\n",
        "import zipfile"
      ]
    },
    {
      "cell_type": "code",
      "source": [
        "! chmod 600 /content/kaggle.json"
      ],
      "metadata": {
        "id": "sf-2XeAayOCR"
      },
      "execution_count": 3,
      "outputs": []
    },
    {
      "cell_type": "code",
      "source": [
        "!KAGGLE_CONFIG_DIR=/content/ kaggle datasets download -d utkarshsaxenadn/fast-food-classification-dataset"
      ],
      "metadata": {
        "colab": {
          "base_uri": "https://localhost:8080/"
        },
        "id": "8Bzun2pByOHP",
        "outputId": "701f43af-0e15-465f-b96f-8ae9c5024c51"
      },
      "execution_count": 4,
      "outputs": [
        {
          "output_type": "stream",
          "name": "stdout",
          "text": [
            "Downloading fast-food-classification-dataset.zip to /content\n",
            " 99% 811M/821M [00:08<00:00, 201MB/s]\n",
            "100% 821M/821M [00:08<00:00, 105MB/s]\n"
          ]
        }
      ]
    },
    {
      "cell_type": "code",
      "source": [
        "zip_file = zipfile.ZipFile('/content/fast-food-classification-dataset.zip', 'r')\n",
        "zip_file.extractall('/tmp/')"
      ],
      "metadata": {
        "id": "b6uyF9u5yOKN"
      },
      "execution_count": 9,
      "outputs": []
    },
    {
      "cell_type": "code",
      "source": [
        "original_dataset_dir = '/tmp/Fast Food Classification V2/Train'\n",
        "\n",
        "# Path to create train and test directories\n",
        "base_dir = 'path/to/base_dir'\n",
        "os.makedirs(base_dir, exist_ok=True)\n",
        "\n",
        "# Creating train and test directories\n",
        "train_dir = os.path.join(base_dir, 'train')\n",
        "os.makedirs(train_dir, exist_ok=True)\n",
        "test_dir = os.path.join(base_dir, 'test')\n",
        "os.makedirs(test_dir, exist_ok=True)\n",
        "\n",
        "# List of class directories in the original dataset\n",
        "class_directories = os.listdir(original_dataset_dir)\n"
      ],
      "metadata": {
        "id": "XvN06ej8yONC"
      },
      "execution_count": 10,
      "outputs": []
    },
    {
      "cell_type": "code",
      "source": [
        "for class_dir in class_directories:\n",
        "    class_path = os.path.join(original_dataset_dir, class_dir)\n",
        "\n",
        "    # Split the images into 80% train and 20% test\n",
        "    train_class_path, test_class_path = train_test_split(os.listdir(class_path), test_size=0.2, random_state=42)\n",
        "\n",
        "    # Create train class directory\n",
        "    train_class_dir = os.path.join(train_dir, class_dir)\n",
        "    os.makedirs(train_class_dir, exist_ok=True)\n",
        "\n",
        "    # Create test class directory\n",
        "    test_class_dir = os.path.join(test_dir, class_dir)\n",
        "    os.makedirs(test_class_dir, exist_ok=True)\n",
        "\n",
        "    # Copy images to train class directory\n",
        "    for img in train_class_path:\n",
        "        shutil.copy(os.path.join(class_path, img), os.path.join(train_class_dir, img))\n",
        "\n",
        "    # Copy images to test class directory\n",
        "    for img in test_class_path:\n",
        "        shutil.copy(os.path.join(class_path, img), os.path.join(test_class_dir, img))\n"
      ],
      "metadata": {
        "id": "RdyTsgSayOP6"
      },
      "execution_count": 11,
      "outputs": []
    },
    {
      "cell_type": "code",
      "source": [
        "img_width, img_height = 224, 224\n",
        "input_shape = (img_width, img_height, 3)"
      ],
      "metadata": {
        "id": "xp47OVQuyOSf"
      },
      "execution_count": 12,
      "outputs": []
    },
    {
      "cell_type": "code",
      "source": [
        "base_model = MobileNetV2(input_shape=input_shape, include_top=False, weights='imagenet')\n",
        "\n",
        "# Freeze the layers of the pre-trained model\n",
        "for layer in base_model.layers:\n",
        "    layer.trainable = False"
      ],
      "metadata": {
        "colab": {
          "base_uri": "https://localhost:8080/"
        },
        "id": "tAbZG9_EyOVQ",
        "outputId": "0df39baf-51a1-4d3b-a764-46284c3f4af3"
      },
      "execution_count": 13,
      "outputs": [
        {
          "output_type": "stream",
          "name": "stdout",
          "text": [
            "Downloading data from https://storage.googleapis.com/tensorflow/keras-applications/mobilenet_v2/mobilenet_v2_weights_tf_dim_ordering_tf_kernels_1.0_224_no_top.h5\n",
            "9406464/9406464 [==============================] - 0s 0us/step\n"
          ]
        }
      ]
    },
    {
      "cell_type": "code",
      "source": [
        "train_datagen = ImageDataGenerator(rescale=1./255,\n",
        "                                   shear_range=0.2,\n",
        "                                   zoom_range=0.2,\n",
        "                                   rotation_range=30,\n",
        "                                   width_shift_range=0.2,\n",
        "                                   height_shift_range=0.2,\n",
        "                                   fill_mode='nearest',\n",
        "                                   horizontal_flip=True)\n",
        "\n",
        "# Rescaling for the test set\n",
        "test_datagen = ImageDataGenerator(rescale=1./255)\n",
        "\n",
        "# Creating data generators\n",
        "train_generator = train_datagen.flow_from_directory(train_dir,\n",
        "                                                    target_size=(img_width, img_height),\n",
        "                                                    batch_size=32,\n",
        "                                                    class_mode='categorical')\n",
        "\n",
        "test_generator = test_datagen.flow_from_directory(test_dir,\n",
        "                                                  target_size=(img_width, img_height),\n",
        "                                                  batch_size=32,\n",
        "                                                  class_mode='categorical')"
      ],
      "metadata": {
        "colab": {
          "base_uri": "https://localhost:8080/"
        },
        "id": "1-d61VtiyOYQ",
        "outputId": "05e5f338-0db3-443b-9f50-32758d7e53a8"
      },
      "execution_count": 14,
      "outputs": [
        {
          "output_type": "stream",
          "name": "stdout",
          "text": [
            "Found 12000 images belonging to 10 classes.\n",
            "Found 3000 images belonging to 10 classes.\n"
          ]
        }
      ]
    },
    {
      "cell_type": "code",
      "source": [
        "model = models.Sequential()\n",
        "\n",
        "# Add the pre-trained base model\n",
        "model.add(base_model)\n",
        "\n",
        "# Add a Conv2D layer\n",
        "model.add(layers.Conv2D(64, (3, 3), activation='relu', padding='same'))\n",
        "model.add(layers.MaxPooling2D((2, 2)))\n",
        "\n",
        "# Add a Conv2D layer\n",
        "model.add(layers.Conv2D(128, (3, 3), activation='relu', padding='same'))\n",
        "model.add(layers.MaxPooling2D((2, 2)))\n",
        "\n",
        "# Add a Conv2D layer\n",
        "model.add(layers.Conv2D(256, (3, 3), activation='relu', padding='same'))\n",
        "\n",
        "# Add GlobalAveragePooling2D layer\n",
        "model.add(layers.GlobalAveragePooling2D())\n",
        "\n",
        "# Add a Dense layer\n",
        "model.add(layers.Dense(512, activation='relu'))\n",
        "\n",
        "# Add the output layer\n",
        "model.add(layers.Dense(10, activation='softmax'))  # Assuming 10 classes\n"
      ],
      "metadata": {
        "id": "rB-sHlEByOj6"
      },
      "execution_count": 16,
      "outputs": []
    },
    {
      "cell_type": "code",
      "source": [
        "model.compile(optimizer='adam', loss='categorical_crossentropy', metrics=['accuracy'])\n"
      ],
      "metadata": {
        "id": "XJHwKQqzyiXa"
      },
      "execution_count": 18,
      "outputs": []
    },
    {
      "cell_type": "code",
      "source": [
        "class CustomCallback(Callback):\n",
        "    def on_epoch_end(self, epoch, logs=None):\n",
        "        if logs.get('accuracy') > 0.92 and logs.get('val_accuracy') > 0.92:\n",
        "            print(\"\\nTraining stopped as accuracy is above 92% on both training and validation sets.\")\n",
        "            self.model.stop_training = True"
      ],
      "metadata": {
        "id": "0ReOqSq2yiaa"
      },
      "execution_count": 19,
      "outputs": []
    },
    {
      "cell_type": "code",
      "source": [
        "reduce_lr = ReduceLROnPlateau(monitor='val_loss', factor=0.2, patience=5, min_lr=1e-7, verbose=1)"
      ],
      "metadata": {
        "id": "eP93uAKWyicu"
      },
      "execution_count": 20,
      "outputs": []
    },
    {
      "cell_type": "code",
      "source": [
        "history = model.fit_generator(train_generator,\n",
        "                              steps_per_epoch=train_generator.samples // train_generator.batch_size,\n",
        "                              epochs=50,  # You can adjust the number of epochs\n",
        "                              validation_data=test_generator,\n",
        "                              validation_steps=test_generator.samples // test_generator.batch_size,\n",
        "                              callbacks=[CustomCallback(), reduce_lr])"
      ],
      "metadata": {
        "colab": {
          "base_uri": "https://localhost:8080/"
        },
        "id": "aH_XSILbyifW",
        "outputId": "b45e2f3b-de62-405d-9114-3475dae39646"
      },
      "execution_count": 21,
      "outputs": [
        {
          "output_type": "stream",
          "name": "stderr",
          "text": [
            "<ipython-input-21-13e62a292815>:1: UserWarning: `Model.fit_generator` is deprecated and will be removed in a future version. Please use `Model.fit`, which supports generators.\n",
            "  history = model.fit_generator(train_generator,\n"
          ]
        },
        {
          "output_type": "stream",
          "name": "stdout",
          "text": [
            "Epoch 1/50\n",
            "112/375 [=======>......................] - ETA: 1:44 - loss: 1.4179 - accuracy: 0.5195"
          ]
        },
        {
          "output_type": "stream",
          "name": "stderr",
          "text": [
            "/usr/local/lib/python3.10/dist-packages/PIL/Image.py:996: UserWarning: Palette images with Transparency expressed in bytes should be converted to RGBA images\n",
            "  warnings.warn(\n"
          ]
        },
        {
          "output_type": "stream",
          "name": "stdout",
          "text": [
            "375/375 [==============================] - 165s 420ms/step - loss: 1.1053 - accuracy: 0.6461 - val_loss: 0.7226 - val_accuracy: 0.7843 - lr: 0.0010\n",
            "Epoch 2/50\n",
            "375/375 [==============================] - 158s 421ms/step - loss: 0.8012 - accuracy: 0.7535 - val_loss: 0.6782 - val_accuracy: 0.7947 - lr: 0.0010\n",
            "Epoch 3/50\n",
            "375/375 [==============================] - 156s 417ms/step - loss: 0.7313 - accuracy: 0.7738 - val_loss: 0.6411 - val_accuracy: 0.8041 - lr: 0.0010\n",
            "Epoch 4/50\n",
            "375/375 [==============================] - 155s 413ms/step - loss: 0.6794 - accuracy: 0.7951 - val_loss: 0.5876 - val_accuracy: 0.8179 - lr: 0.0010\n",
            "Epoch 5/50\n",
            "375/375 [==============================] - 156s 416ms/step - loss: 0.6607 - accuracy: 0.7929 - val_loss: 0.6313 - val_accuracy: 0.8108 - lr: 0.0010\n",
            "Epoch 6/50\n",
            "375/375 [==============================] - 161s 429ms/step - loss: 0.6123 - accuracy: 0.8118 - val_loss: 0.6106 - val_accuracy: 0.8132 - lr: 0.0010\n",
            "Epoch 7/50\n",
            "375/375 [==============================] - 166s 443ms/step - loss: 0.5907 - accuracy: 0.8156 - val_loss: 0.6298 - val_accuracy: 0.8112 - lr: 0.0010\n",
            "Epoch 8/50\n",
            "375/375 [==============================] - 166s 442ms/step - loss: 0.5743 - accuracy: 0.8201 - val_loss: 0.6119 - val_accuracy: 0.8196 - lr: 0.0010\n",
            "Epoch 9/50\n",
            "375/375 [==============================] - ETA: 0s - loss: 0.5505 - accuracy: 0.8280\n",
            "Epoch 9: ReduceLROnPlateau reducing learning rate to 0.00020000000949949026.\n",
            "375/375 [==============================] - 157s 417ms/step - loss: 0.5505 - accuracy: 0.8280 - val_loss: 0.6175 - val_accuracy: 0.8135 - lr: 0.0010\n",
            "Epoch 10/50\n",
            "375/375 [==============================] - 162s 432ms/step - loss: 0.4546 - accuracy: 0.8550 - val_loss: 0.5956 - val_accuracy: 0.8236 - lr: 2.0000e-04\n",
            "Epoch 11/50\n",
            "375/375 [==============================] - 157s 419ms/step - loss: 0.4341 - accuracy: 0.8647 - val_loss: 0.5742 - val_accuracy: 0.8263 - lr: 2.0000e-04\n",
            "Epoch 12/50\n",
            "375/375 [==============================] - 155s 414ms/step - loss: 0.4193 - accuracy: 0.8652 - val_loss: 0.5904 - val_accuracy: 0.8256 - lr: 2.0000e-04\n",
            "Epoch 13/50\n",
            "375/375 [==============================] - 161s 429ms/step - loss: 0.4111 - accuracy: 0.8686 - val_loss: 0.5717 - val_accuracy: 0.8333 - lr: 2.0000e-04\n",
            "Epoch 14/50\n",
            "375/375 [==============================] - 162s 432ms/step - loss: 0.4020 - accuracy: 0.8719 - val_loss: 0.5976 - val_accuracy: 0.8290 - lr: 2.0000e-04\n",
            "Epoch 15/50\n",
            "375/375 [==============================] - 157s 419ms/step - loss: 0.3897 - accuracy: 0.8727 - val_loss: 0.5830 - val_accuracy: 0.8337 - lr: 2.0000e-04\n",
            "Epoch 16/50\n",
            "375/375 [==============================] - 156s 416ms/step - loss: 0.3859 - accuracy: 0.8772 - val_loss: 0.5892 - val_accuracy: 0.8333 - lr: 2.0000e-04\n",
            "Epoch 17/50\n",
            "375/375 [==============================] - 155s 414ms/step - loss: 0.3705 - accuracy: 0.8789 - val_loss: 0.6072 - val_accuracy: 0.8280 - lr: 2.0000e-04\n",
            "Epoch 18/50\n",
            "375/375 [==============================] - 158s 421ms/step - loss: 0.3798 - accuracy: 0.8788 - val_loss: 0.5700 - val_accuracy: 0.8367 - lr: 2.0000e-04\n",
            "Epoch 19/50\n",
            "375/375 [==============================] - 160s 428ms/step - loss: 0.3591 - accuracy: 0.8821 - val_loss: 0.5793 - val_accuracy: 0.8337 - lr: 2.0000e-04\n",
            "Epoch 20/50\n",
            "375/375 [==============================] - 158s 422ms/step - loss: 0.3530 - accuracy: 0.8865 - val_loss: 0.5919 - val_accuracy: 0.8333 - lr: 2.0000e-04\n",
            "Epoch 21/50\n",
            "375/375 [==============================] - 158s 422ms/step - loss: 0.3570 - accuracy: 0.8832 - val_loss: 0.6114 - val_accuracy: 0.8310 - lr: 2.0000e-04\n",
            "Epoch 22/50\n",
            "375/375 [==============================] - 158s 422ms/step - loss: 0.3490 - accuracy: 0.8855 - val_loss: 0.5940 - val_accuracy: 0.8337 - lr: 2.0000e-04\n",
            "Epoch 23/50\n",
            "375/375 [==============================] - ETA: 0s - loss: 0.3444 - accuracy: 0.8870\n",
            "Epoch 23: ReduceLROnPlateau reducing learning rate to 4.0000001899898055e-05.\n",
            "375/375 [==============================] - 158s 421ms/step - loss: 0.3444 - accuracy: 0.8870 - val_loss: 0.6049 - val_accuracy: 0.8347 - lr: 2.0000e-04\n",
            "Epoch 24/50\n",
            "375/375 [==============================] - 161s 428ms/step - loss: 0.3222 - accuracy: 0.8945 - val_loss: 0.5937 - val_accuracy: 0.8357 - lr: 4.0000e-05\n",
            "Epoch 25/50\n",
            "375/375 [==============================] - 161s 430ms/step - loss: 0.3179 - accuracy: 0.8960 - val_loss: 0.5975 - val_accuracy: 0.8360 - lr: 4.0000e-05\n",
            "Epoch 26/50\n",
            "375/375 [==============================] - 161s 428ms/step - loss: 0.3091 - accuracy: 0.8993 - val_loss: 0.5915 - val_accuracy: 0.8364 - lr: 4.0000e-05\n",
            "Epoch 27/50\n",
            "375/375 [==============================] - 161s 431ms/step - loss: 0.3117 - accuracy: 0.8991 - val_loss: 0.5992 - val_accuracy: 0.8380 - lr: 4.0000e-05\n",
            "Epoch 28/50\n",
            "375/375 [==============================] - ETA: 0s - loss: 0.3073 - accuracy: 0.8991\n",
            "Epoch 28: ReduceLROnPlateau reducing learning rate to 8.000000525498762e-06.\n",
            "375/375 [==============================] - 162s 431ms/step - loss: 0.3073 - accuracy: 0.8991 - val_loss: 0.5968 - val_accuracy: 0.8360 - lr: 4.0000e-05\n",
            "Epoch 29/50\n",
            "375/375 [==============================] - 161s 430ms/step - loss: 0.3003 - accuracy: 0.9024 - val_loss: 0.6031 - val_accuracy: 0.8367 - lr: 8.0000e-06\n",
            "Epoch 30/50\n",
            "375/375 [==============================] - 162s 432ms/step - loss: 0.2974 - accuracy: 0.9007 - val_loss: 0.5997 - val_accuracy: 0.8384 - lr: 8.0000e-06\n",
            "Epoch 31/50\n",
            "375/375 [==============================] - 165s 439ms/step - loss: 0.2993 - accuracy: 0.9009 - val_loss: 0.6012 - val_accuracy: 0.8374 - lr: 8.0000e-06\n",
            "Epoch 32/50\n",
            "375/375 [==============================] - 160s 428ms/step - loss: 0.3032 - accuracy: 0.9008 - val_loss: 0.5981 - val_accuracy: 0.8401 - lr: 8.0000e-06\n",
            "Epoch 33/50\n",
            "375/375 [==============================] - ETA: 0s - loss: 0.3002 - accuracy: 0.9002\n",
            "Epoch 33: ReduceLROnPlateau reducing learning rate to 1.6000001778593287e-06.\n",
            "375/375 [==============================] - 160s 426ms/step - loss: 0.3002 - accuracy: 0.9002 - val_loss: 0.5996 - val_accuracy: 0.8397 - lr: 8.0000e-06\n",
            "Epoch 34/50\n",
            "375/375 [==============================] - 163s 433ms/step - loss: 0.2993 - accuracy: 0.9007 - val_loss: 0.6008 - val_accuracy: 0.8387 - lr: 1.6000e-06\n",
            "Epoch 35/50\n",
            "375/375 [==============================] - 157s 419ms/step - loss: 0.3004 - accuracy: 0.8982 - val_loss: 0.6040 - val_accuracy: 0.8380 - lr: 1.6000e-06\n",
            "Epoch 36/50\n",
            "375/375 [==============================] - 159s 423ms/step - loss: 0.2982 - accuracy: 0.9022 - val_loss: 0.5973 - val_accuracy: 0.8401 - lr: 1.6000e-06\n",
            "Epoch 37/50\n",
            "375/375 [==============================] - 158s 421ms/step - loss: 0.2923 - accuracy: 0.9018 - val_loss: 0.6018 - val_accuracy: 0.8384 - lr: 1.6000e-06\n",
            "Epoch 38/50\n",
            "375/375 [==============================] - ETA: 0s - loss: 0.3014 - accuracy: 0.8997\n",
            "Epoch 38: ReduceLROnPlateau reducing learning rate to 3.200000264769187e-07.\n",
            "375/375 [==============================] - 160s 426ms/step - loss: 0.3014 - accuracy: 0.8997 - val_loss: 0.5983 - val_accuracy: 0.8394 - lr: 1.6000e-06\n",
            "Epoch 39/50\n",
            "375/375 [==============================] - 160s 426ms/step - loss: 0.2973 - accuracy: 0.9021 - val_loss: 0.5948 - val_accuracy: 0.8397 - lr: 3.2000e-07\n",
            "Epoch 40/50\n",
            "375/375 [==============================] - 161s 429ms/step - loss: 0.3002 - accuracy: 0.9011 - val_loss: 0.5988 - val_accuracy: 0.8394 - lr: 3.2000e-07\n",
            "Epoch 41/50\n",
            "375/375 [==============================] - 158s 421ms/step - loss: 0.2951 - accuracy: 0.9038 - val_loss: 0.6014 - val_accuracy: 0.8384 - lr: 3.2000e-07\n",
            "Epoch 42/50\n",
            "375/375 [==============================] - 157s 419ms/step - loss: 0.2939 - accuracy: 0.9015 - val_loss: 0.5964 - val_accuracy: 0.8397 - lr: 3.2000e-07\n",
            "Epoch 43/50\n",
            "375/375 [==============================] - ETA: 0s - loss: 0.2996 - accuracy: 0.8993\n",
            "Epoch 43: ReduceLROnPlateau reducing learning rate to 1e-07.\n",
            "375/375 [==============================] - 159s 423ms/step - loss: 0.2996 - accuracy: 0.8993 - val_loss: 0.5979 - val_accuracy: 0.8407 - lr: 3.2000e-07\n",
            "Epoch 44/50\n",
            "375/375 [==============================] - 171s 457ms/step - loss: 0.3046 - accuracy: 0.9009 - val_loss: 0.6027 - val_accuracy: 0.8384 - lr: 1.0000e-07\n",
            "Epoch 45/50\n",
            "375/375 [==============================] - 178s 476ms/step - loss: 0.2981 - accuracy: 0.9006 - val_loss: 0.6000 - val_accuracy: 0.8394 - lr: 1.0000e-07\n",
            "Epoch 46/50\n",
            "375/375 [==============================] - 164s 436ms/step - loss: 0.2953 - accuracy: 0.9033 - val_loss: 0.6003 - val_accuracy: 0.8394 - lr: 1.0000e-07\n",
            "Epoch 47/50\n",
            "375/375 [==============================] - 158s 421ms/step - loss: 0.2911 - accuracy: 0.9038 - val_loss: 0.5992 - val_accuracy: 0.8401 - lr: 1.0000e-07\n",
            "Epoch 48/50\n",
            "375/375 [==============================] - 160s 426ms/step - loss: 0.2992 - accuracy: 0.8993 - val_loss: 0.6019 - val_accuracy: 0.8387 - lr: 1.0000e-07\n",
            "Epoch 49/50\n",
            "375/375 [==============================] - 158s 420ms/step - loss: 0.2998 - accuracy: 0.9034 - val_loss: 0.6006 - val_accuracy: 0.8390 - lr: 1.0000e-07\n",
            "Epoch 50/50\n",
            "375/375 [==============================] - 161s 429ms/step - loss: 0.3004 - accuracy: 0.9006 - val_loss: 0.5993 - val_accuracy: 0.8401 - lr: 1.0000e-07\n"
          ]
        }
      ]
    },
    {
      "cell_type": "code",
      "source": [
        "plt.plot(history.history['accuracy'], label='Training Accuracy')\n",
        "plt.plot(history.history['val_accuracy'], label='Validation Accuracy')\n",
        "plt.xlabel('Epochs')\n",
        "plt.ylabel('Accuracy')\n",
        "plt.legend()\n",
        "plt.show()\n",
        "\n",
        "plt.plot(history.history['loss'], label='Training Loss')\n",
        "plt.plot(history.history['val_loss'], label='Validation Loss')\n",
        "plt.xlabel('Epochs')\n",
        "plt.ylabel('Loss')\n",
        "plt.legend()\n",
        "plt.show()"
      ],
      "metadata": {
        "colab": {
          "base_uri": "https://localhost:8080/",
          "height": 881
        },
        "id": "PDlsw-NKyihq",
        "outputId": "2b69ef8d-d8d2-4873-ab2f-0f7a94a233cd"
      },
      "execution_count": 22,
      "outputs": [
        {
          "output_type": "display_data",
          "data": {
            "text/plain": [
              "<Figure size 640x480 with 1 Axes>"
            ],
            "image/png": "[encoded data removed]"
          },
          "metadata": {}
        },
        {
          "output_type": "display_data",
          "data": {
            "text/plain": [
              "<Figure size 640x480 with 1 Axes>"
            ],
            "image/png": "[encoded data removed]"
          },
          "metadata": {}
        }
      ]
    },
    {
      "cell_type": "code",
      "source": [
        "model.save('transfer_learning_model.h5')\n",
        "converter = tf.lite.TFLiteConverter.from_keras_model(model)\n",
        "tflite_model = converter.convert()\n",
        "with open('transfer_learning_model.tflite', 'wb') as f:\n",
        "    f.write(tflite_model)"
      ],
      "metadata": {
        "colab": {
          "base_uri": "https://localhost:8080/"
        },
        "id": "iXpR2s8KVzBE",
        "outputId": "4e21da56-ff25-465c-9c01-d22e15550f25"
      },
      "execution_count": 23,
      "outputs": [
        {
          "output_type": "stream",
          "name": "stderr",
          "text": [
            "/usr/local/lib/python3.10/dist-packages/keras/src/engine/training.py:3103: UserWarning: You are saving your model as an HDF5 file via `model.save()`. This file format is considered legacy. We recommend using instead the native Keras format, e.g. `model.save('my_model.keras')`.\n",
            "  saving_api.save_model(\n",
            "WARNING:absl:`mobilenetv2_1.00_224_input` is not a valid tf.function parameter name. Sanitizing to `mobilenetv2_1_00_224_input`.\n",
            "WARNING:absl:`mobilenetv2_1.00_224_input` is not a valid tf.function parameter name. Sanitizing to `mobilenetv2_1_00_224_input`.\n",
            "WARNING:absl:`mobilenetv2_1.00_224_input` is not a valid tf.function parameter name. Sanitizing to `mobilenetv2_1_00_224_input`.\n"
          ]
        }
      ]
    }
  ]
}